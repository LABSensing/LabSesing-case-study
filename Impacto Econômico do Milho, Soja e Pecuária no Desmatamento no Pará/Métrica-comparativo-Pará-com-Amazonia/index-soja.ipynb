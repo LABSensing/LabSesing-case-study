{
 "cells": [
  {
   "cell_type": "markdown",
   "id": "6d8cff2b",
   "metadata": {},
   "source": [
    "## Escolha da Soja"
   ]
  },
  {
   "cell_type": "code",
   "execution_count": 1,
   "id": "27f2e2b9",
   "metadata": {},
   "outputs": [],
   "source": [
    "import pandas as pd\n",
    "\n",
    "import matplotlib.pyplot as plt"
   ]
  },
  {
   "cell_type": "code",
   "execution_count": 2,
   "id": "13d9d3ab",
   "metadata": {},
   "outputs": [],
   "source": [
    "df_soja = pd.read_excel(\"../Producao-Soja/Produção-Soja.xls\")"
   ]
  },
  {
   "cell_type": "code",
   "execution_count": 3,
   "id": "ce5869ac",
   "metadata": {},
   "outputs": [
    {
     "data": {
      "text/html": [
       "<div>\n",
       "<style scoped>\n",
       "    .dataframe tbody tr th:only-of-type {\n",
       "        vertical-align: middle;\n",
       "    }\n",
       "\n",
       "    .dataframe tbody tr th {\n",
       "        vertical-align: top;\n",
       "    }\n",
       "\n",
       "    .dataframe thead th {\n",
       "        text-align: right;\n",
       "    }\n",
       "</style>\n",
       "<table border=\"1\" class=\"dataframe\">\n",
       "  <thead>\n",
       "    <tr style=\"text-align: right;\">\n",
       "      <th></th>\n",
       "      <th>Sigla</th>\n",
       "      <th>Codigo</th>\n",
       "      <th>Estado</th>\n",
       "      <th>1999</th>\n",
       "      <th>2000</th>\n",
       "      <th>2001</th>\n",
       "      <th>2002</th>\n",
       "      <th>2003</th>\n",
       "      <th>2004</th>\n",
       "      <th>2005</th>\n",
       "      <th>...</th>\n",
       "      <th>2011</th>\n",
       "      <th>2012</th>\n",
       "      <th>2013</th>\n",
       "      <th>2014</th>\n",
       "      <th>2015</th>\n",
       "      <th>2016</th>\n",
       "      <th>2017</th>\n",
       "      <th>2018</th>\n",
       "      <th>2019</th>\n",
       "      <th>2020</th>\n",
       "    </tr>\n",
       "  </thead>\n",
       "  <tbody>\n",
       "    <tr>\n",
       "      <th>0</th>\n",
       "      <td>AC</td>\n",
       "      <td>12</td>\n",
       "      <td>Acre</td>\n",
       "      <td>1.358883e+02</td>\n",
       "      <td>NaN</td>\n",
       "      <td>NaN</td>\n",
       "      <td>NaN</td>\n",
       "      <td>NaN</td>\n",
       "      <td>NaN</td>\n",
       "      <td>8.342878e+01</td>\n",
       "      <td>...</td>\n",
       "      <td>1.818709e+02</td>\n",
       "      <td>0.000000e+00</td>\n",
       "      <td>1.026277e+02</td>\n",
       "      <td>6.838297e+02</td>\n",
       "      <td>0.000000e+00</td>\n",
       "      <td>1.237049e+02</td>\n",
       "      <td>1.695014e+02</td>\n",
       "      <td>1.018365e+03</td>\n",
       "      <td>3.574049e+03</td>\n",
       "      <td>7.643921e+03</td>\n",
       "    </tr>\n",
       "    <tr>\n",
       "      <th>1</th>\n",
       "      <td>AL</td>\n",
       "      <td>27</td>\n",
       "      <td>Alagoas</td>\n",
       "      <td>NaN</td>\n",
       "      <td>NaN</td>\n",
       "      <td>NaN</td>\n",
       "      <td>NaN</td>\n",
       "      <td>NaN</td>\n",
       "      <td>4.805945e+02</td>\n",
       "      <td>9.392930e+02</td>\n",
       "      <td>...</td>\n",
       "      <td>0.000000e+00</td>\n",
       "      <td>0.000000e+00</td>\n",
       "      <td>0.000000e+00</td>\n",
       "      <td>0.000000e+00</td>\n",
       "      <td>5.068004e+02</td>\n",
       "      <td>1.016283e+03</td>\n",
       "      <td>8.028367e+02</td>\n",
       "      <td>1.600456e+03</td>\n",
       "      <td>7.966742e+03</td>\n",
       "      <td>3.860220e+03</td>\n",
       "    </tr>\n",
       "    <tr>\n",
       "      <th>2</th>\n",
       "      <td>AM</td>\n",
       "      <td>13</td>\n",
       "      <td>Amazonas</td>\n",
       "      <td>8.752875e+02</td>\n",
       "      <td>8.113956e+02</td>\n",
       "      <td>8.093234e+02</td>\n",
       "      <td>1.538794e+03</td>\n",
       "      <td>2.206276e+03</td>\n",
       "      <td>2.110907e+03</td>\n",
       "      <td>1.911670e+03</td>\n",
       "      <td>...</td>\n",
       "      <td>2.991176e+02</td>\n",
       "      <td>4.310548e+02</td>\n",
       "      <td>3.659594e+01</td>\n",
       "      <td>0.000000e+00</td>\n",
       "      <td>0.000000e+00</td>\n",
       "      <td>0.000000e+00</td>\n",
       "      <td>0.000000e+00</td>\n",
       "      <td>0.000000e+00</td>\n",
       "      <td>5.056822e+03</td>\n",
       "      <td>5.277129e+03</td>\n",
       "    </tr>\n",
       "    <tr>\n",
       "      <th>3</th>\n",
       "      <td>AP</td>\n",
       "      <td>16</td>\n",
       "      <td>Amapá</td>\n",
       "      <td>NaN</td>\n",
       "      <td>NaN</td>\n",
       "      <td>NaN</td>\n",
       "      <td>NaN</td>\n",
       "      <td>NaN</td>\n",
       "      <td>NaN</td>\n",
       "      <td>NaN</td>\n",
       "      <td>...</td>\n",
       "      <td>0.000000e+00</td>\n",
       "      <td>0.000000e+00</td>\n",
       "      <td>9.000215e+03</td>\n",
       "      <td>2.665608e+04</td>\n",
       "      <td>1.642609e+04</td>\n",
       "      <td>2.358767e+04</td>\n",
       "      <td>2.967253e+04</td>\n",
       "      <td>3.076587e+04</td>\n",
       "      <td>2.696073e+04</td>\n",
       "      <td>2.346581e+04</td>\n",
       "    </tr>\n",
       "    <tr>\n",
       "      <th>4</th>\n",
       "      <td>BA</td>\n",
       "      <td>29</td>\n",
       "      <td>Bahia</td>\n",
       "      <td>6.888470e+05</td>\n",
       "      <td>9.163055e+05</td>\n",
       "      <td>9.094542e+05</td>\n",
       "      <td>1.222699e+06</td>\n",
       "      <td>1.579248e+06</td>\n",
       "      <td>2.186123e+06</td>\n",
       "      <td>1.522282e+06</td>\n",
       "      <td>...</td>\n",
       "      <td>2.199275e+06</td>\n",
       "      <td>2.294141e+06</td>\n",
       "      <td>1.830873e+06</td>\n",
       "      <td>2.284841e+06</td>\n",
       "      <td>3.053447e+06</td>\n",
       "      <td>2.215305e+06</td>\n",
       "      <td>3.259237e+06</td>\n",
       "      <td>4.159184e+06</td>\n",
       "      <td>3.329493e+06</td>\n",
       "      <td>5.432937e+06</td>\n",
       "    </tr>\n",
       "    <tr>\n",
       "      <th>5</th>\n",
       "      <td>CE</td>\n",
       "      <td>23</td>\n",
       "      <td>Ceará</td>\n",
       "      <td>NaN</td>\n",
       "      <td>NaN</td>\n",
       "      <td>NaN</td>\n",
       "      <td>3.913476e+02</td>\n",
       "      <td>1.948184e+03</td>\n",
       "      <td>1.135810e+03</td>\n",
       "      <td>9.062092e+02</td>\n",
       "      <td>...</td>\n",
       "      <td>0.000000e+00</td>\n",
       "      <td>3.262846e+03</td>\n",
       "      <td>0.000000e+00</td>\n",
       "      <td>0.000000e+00</td>\n",
       "      <td>0.000000e+00</td>\n",
       "      <td>0.000000e+00</td>\n",
       "      <td>0.000000e+00</td>\n",
       "      <td>1.300041e+02</td>\n",
       "      <td>0.000000e+00</td>\n",
       "      <td>1.211101e+03</td>\n",
       "    </tr>\n",
       "    <tr>\n",
       "      <th>6</th>\n",
       "      <td>DF</td>\n",
       "      <td>53</td>\n",
       "      <td>Distrito Federal</td>\n",
       "      <td>3.755094e+04</td>\n",
       "      <td>5.741677e+04</td>\n",
       "      <td>4.913928e+04</td>\n",
       "      <td>9.421409e+04</td>\n",
       "      <td>1.138006e+05</td>\n",
       "      <td>1.455166e+05</td>\n",
       "      <td>1.125382e+05</td>\n",
       "      <td>...</td>\n",
       "      <td>1.177074e+05</td>\n",
       "      <td>1.273109e+05</td>\n",
       "      <td>1.235471e+05</td>\n",
       "      <td>1.606137e+05</td>\n",
       "      <td>1.178122e+05</td>\n",
       "      <td>1.774563e+05</td>\n",
       "      <td>1.527036e+05</td>\n",
       "      <td>1.912067e+05</td>\n",
       "      <td>1.567913e+05</td>\n",
       "      <td>2.187454e+05</td>\n",
       "    </tr>\n",
       "    <tr>\n",
       "      <th>7</th>\n",
       "      <td>ES</td>\n",
       "      <td>32</td>\n",
       "      <td>Espírito Santo</td>\n",
       "      <td>NaN</td>\n",
       "      <td>NaN</td>\n",
       "      <td>NaN</td>\n",
       "      <td>NaN</td>\n",
       "      <td>NaN</td>\n",
       "      <td>NaN</td>\n",
       "      <td>NaN</td>\n",
       "      <td>...</td>\n",
       "      <td>0.000000e+00</td>\n",
       "      <td>0.000000e+00</td>\n",
       "      <td>0.000000e+00</td>\n",
       "      <td>0.000000e+00</td>\n",
       "      <td>0.000000e+00</td>\n",
       "      <td>0.000000e+00</td>\n",
       "      <td>0.000000e+00</td>\n",
       "      <td>0.000000e+00</td>\n",
       "      <td>0.000000e+00</td>\n",
       "      <td>0.000000e+00</td>\n",
       "    </tr>\n",
       "    <tr>\n",
       "      <th>8</th>\n",
       "      <td>GO</td>\n",
       "      <td>52</td>\n",
       "      <td>Goiás</td>\n",
       "      <td>1.882666e+06</td>\n",
       "      <td>2.355046e+06</td>\n",
       "      <td>2.460145e+06</td>\n",
       "      <td>4.926949e+06</td>\n",
       "      <td>5.164282e+06</td>\n",
       "      <td>5.897889e+06</td>\n",
       "      <td>4.132481e+06</td>\n",
       "      <td>...</td>\n",
       "      <td>4.705257e+06</td>\n",
       "      <td>5.337007e+06</td>\n",
       "      <td>5.762897e+06</td>\n",
       "      <td>6.198201e+06</td>\n",
       "      <td>5.564990e+06</td>\n",
       "      <td>6.824954e+06</td>\n",
       "      <td>7.126800e+06</td>\n",
       "      <td>7.142821e+06</td>\n",
       "      <td>7.036025e+06</td>\n",
       "      <td>8.700218e+06</td>\n",
       "    </tr>\n",
       "    <tr>\n",
       "      <th>9</th>\n",
       "      <td>MA</td>\n",
       "      <td>21</td>\n",
       "      <td>Maranhão</td>\n",
       "      <td>2.439664e+05</td>\n",
       "      <td>2.563868e+05</td>\n",
       "      <td>2.795378e+05</td>\n",
       "      <td>3.805989e+05</td>\n",
       "      <td>6.613933e+05</td>\n",
       "      <td>6.581781e+05</td>\n",
       "      <td>6.837679e+05</td>\n",
       "      <td>...</td>\n",
       "      <td>9.559236e+05</td>\n",
       "      <td>1.043600e+06</td>\n",
       "      <td>1.051249e+06</td>\n",
       "      <td>1.279353e+06</td>\n",
       "      <td>1.337234e+06</td>\n",
       "      <td>8.341466e+05</td>\n",
       "      <td>1.420984e+06</td>\n",
       "      <td>1.846384e+06</td>\n",
       "      <td>1.723906e+06</td>\n",
       "      <td>2.746498e+06</td>\n",
       "    </tr>\n",
       "  </tbody>\n",
       "</table>\n",
       "<p>10 rows × 25 columns</p>\n",
       "</div>"
      ],
      "text/plain": [
       "  Sigla  Codigo            Estado          1999          2000          2001  \\\n",
       "0    AC      12              Acre  1.358883e+02           NaN           NaN   \n",
       "1    AL      27           Alagoas           NaN           NaN           NaN   \n",
       "2    AM      13          Amazonas  8.752875e+02  8.113956e+02  8.093234e+02   \n",
       "3    AP      16             Amapá           NaN           NaN           NaN   \n",
       "4    BA      29             Bahia  6.888470e+05  9.163055e+05  9.094542e+05   \n",
       "5    CE      23             Ceará           NaN           NaN           NaN   \n",
       "6    DF      53  Distrito Federal  3.755094e+04  5.741677e+04  4.913928e+04   \n",
       "7    ES      32    Espírito Santo           NaN           NaN           NaN   \n",
       "8    GO      52             Goiás  1.882666e+06  2.355046e+06  2.460145e+06   \n",
       "9    MA      21          Maranhão  2.439664e+05  2.563868e+05  2.795378e+05   \n",
       "\n",
       "           2002          2003          2004          2005  ...          2011  \\\n",
       "0           NaN           NaN           NaN  8.342878e+01  ...  1.818709e+02   \n",
       "1           NaN           NaN  4.805945e+02  9.392930e+02  ...  0.000000e+00   \n",
       "2  1.538794e+03  2.206276e+03  2.110907e+03  1.911670e+03  ...  2.991176e+02   \n",
       "3           NaN           NaN           NaN           NaN  ...  0.000000e+00   \n",
       "4  1.222699e+06  1.579248e+06  2.186123e+06  1.522282e+06  ...  2.199275e+06   \n",
       "5  3.913476e+02  1.948184e+03  1.135810e+03  9.062092e+02  ...  0.000000e+00   \n",
       "6  9.421409e+04  1.138006e+05  1.455166e+05  1.125382e+05  ...  1.177074e+05   \n",
       "7           NaN           NaN           NaN           NaN  ...  0.000000e+00   \n",
       "8  4.926949e+06  5.164282e+06  5.897889e+06  4.132481e+06  ...  4.705257e+06   \n",
       "9  3.805989e+05  6.613933e+05  6.581781e+05  6.837679e+05  ...  9.559236e+05   \n",
       "\n",
       "           2012          2013          2014          2015          2016  \\\n",
       "0  0.000000e+00  1.026277e+02  6.838297e+02  0.000000e+00  1.237049e+02   \n",
       "1  0.000000e+00  0.000000e+00  0.000000e+00  5.068004e+02  1.016283e+03   \n",
       "2  4.310548e+02  3.659594e+01  0.000000e+00  0.000000e+00  0.000000e+00   \n",
       "3  0.000000e+00  9.000215e+03  2.665608e+04  1.642609e+04  2.358767e+04   \n",
       "4  2.294141e+06  1.830873e+06  2.284841e+06  3.053447e+06  2.215305e+06   \n",
       "5  3.262846e+03  0.000000e+00  0.000000e+00  0.000000e+00  0.000000e+00   \n",
       "6  1.273109e+05  1.235471e+05  1.606137e+05  1.178122e+05  1.774563e+05   \n",
       "7  0.000000e+00  0.000000e+00  0.000000e+00  0.000000e+00  0.000000e+00   \n",
       "8  5.337007e+06  5.762897e+06  6.198201e+06  5.564990e+06  6.824954e+06   \n",
       "9  1.043600e+06  1.051249e+06  1.279353e+06  1.337234e+06  8.341466e+05   \n",
       "\n",
       "           2017          2018          2019          2020  \n",
       "0  1.695014e+02  1.018365e+03  3.574049e+03  7.643921e+03  \n",
       "1  8.028367e+02  1.600456e+03  7.966742e+03  3.860220e+03  \n",
       "2  0.000000e+00  0.000000e+00  5.056822e+03  5.277129e+03  \n",
       "3  2.967253e+04  3.076587e+04  2.696073e+04  2.346581e+04  \n",
       "4  3.259237e+06  4.159184e+06  3.329493e+06  5.432937e+06  \n",
       "5  0.000000e+00  1.300041e+02  0.000000e+00  1.211101e+03  \n",
       "6  1.527036e+05  1.912067e+05  1.567913e+05  2.187454e+05  \n",
       "7  0.000000e+00  0.000000e+00  0.000000e+00  0.000000e+00  \n",
       "8  7.126800e+06  7.142821e+06  7.036025e+06  8.700218e+06  \n",
       "9  1.420984e+06  1.846384e+06  1.723906e+06  2.746498e+06  \n",
       "\n",
       "[10 rows x 25 columns]"
      ]
     },
     "execution_count": 3,
     "metadata": {},
     "output_type": "execute_result"
    }
   ],
   "source": [
    "df_soja.head(10)"
   ]
  },
  {
   "cell_type": "code",
   "execution_count": 4,
   "id": "a4d3079b",
   "metadata": {},
   "outputs": [],
   "source": [
    "df_colunas_soja = df_soja.loc[:, '1999':'2020'].head(10)"
   ]
  },
  {
   "cell_type": "code",
   "execution_count": 5,
   "id": "1c70e277",
   "metadata": {},
   "outputs": [
    {
     "data": {
      "text/plain": [
       "Index(['1999', '2000', '2001', '2002', '2003', '2004', '2005', '2006', '2007',\n",
       "       '2008', '2009', '2010', '2011', '2012', '2013', '2014', '2015', '2016',\n",
       "       '2017', '2018', '2019', '2020'],\n",
       "      dtype='object')"
      ]
     },
     "execution_count": 5,
     "metadata": {},
     "output_type": "execute_result"
    }
   ],
   "source": [
    "df_colunas_soja.columns"
   ]
  },
  {
   "cell_type": "code",
   "execution_count": 6,
   "id": "97b0c155",
   "metadata": {},
   "outputs": [
    {
     "data": {
      "text/plain": [
       "Sigla      object\n",
       "Codigo      int64\n",
       "Estado     object\n",
       "1999      float64\n",
       "2000      float64\n",
       "2001      float64\n",
       "2002      float64\n",
       "2003      float64\n",
       "2004      float64\n",
       "2005      float64\n",
       "2006      float64\n",
       "2007      float64\n",
       "2008      float64\n",
       "2009      float64\n",
       "2010      float64\n",
       "2011      float64\n",
       "2012      float64\n",
       "2013      float64\n",
       "2014      float64\n",
       "2015      float64\n",
       "2016      float64\n",
       "2017      float64\n",
       "2018      float64\n",
       "2019      float64\n",
       "2020      float64\n",
       "dtype: object"
      ]
     },
     "execution_count": 6,
     "metadata": {},
     "output_type": "execute_result"
    }
   ],
   "source": [
    "df_soja.dtypes"
   ]
  },
  {
   "cell_type": "markdown",
   "id": "22a5f77b",
   "metadata": {},
   "source": [
    "### Filtrando cada classe Amazônia pelo acumulado total de soja anual"
   ]
  },
  {
   "cell_type": "code",
   "execution_count": 7,
   "id": "6faf7882",
   "metadata": {},
   "outputs": [],
   "source": [
    "def acumulador_soja_amazonia_1999():\n",
    "    estados_amazonia = ['Tocantins', 'Roraima', 'Rondônia', 'Pará', 'Mato Grosso',\n",
    "                        'Maranhão', 'Amapá', 'Amazonas', 'Acre']\n",
    "    \n",
    "    # 1. Filtra apenas os estados da Amazônia\n",
    "    df_soja_filtrado = df_soja[df_soja['Estado'].isin(estados_amazonia)]\n",
    "    \n",
    "    # 2. Seleciona a coluna do ano 1999 e soma todos os valores\n",
    "    total_soja_1999 = df_soja_filtrado['1999'].sum()\n",
    "    \n",
    "    return total_soja_1999"
   ]
  },
  {
   "cell_type": "code",
   "execution_count": 8,
   "id": "33cfe0ba",
   "metadata": {},
   "outputs": [],
   "source": [
    "def acumulador_soja_amazonia_2000():\n",
    "    estados_amazonia = ['Tocantins', 'Roraima', 'Rondônia', 'Pará', 'Mato Grosso',\n",
    "                        'Maranhão', 'Amapá', 'Amazonas', 'Acre']\n",
    "    \n",
    "    # 1. Filtra apenas os estados da Amazônia\n",
    "    df_soja_filtrado = df_soja[df_soja['Estado'].isin(estados_amazonia)]\n",
    "    \n",
    "    # 2. Seleciona a coluna do ano 2000 e soma todos os valores\n",
    "    total_soja_2000 = df_soja_filtrado['2000'].sum()\n",
    "    \n",
    "    return total_soja_2000"
   ]
  },
  {
   "cell_type": "code",
   "execution_count": 9,
   "id": "73b603c3",
   "metadata": {},
   "outputs": [],
   "source": [
    "def acumulador_soja_amazonia_2001():\n",
    "    estados_amazonia = ['Tocantins', 'Roraima', 'Rondônia', 'Pará', 'Mato Grosso',\n",
    "                        'Maranhão', 'Amapá', 'Amazonas', 'Acre']\n",
    "    \n",
    "    # 1. Filtra apenas os estados da Amazônia\n",
    "    df_soja_filtrado = df_soja[df_soja['Estado'].isin(estados_amazonia)]\n",
    "    \n",
    "    # 2. Seleciona a coluna do ano 2001 e soma todos os valores\n",
    "    total_soja_2001 = df_soja_filtrado['2001'].sum()\n",
    "    \n",
    "    return total_soja_2001"
   ]
  },
  {
   "cell_type": "code",
   "execution_count": 10,
   "id": "79951235",
   "metadata": {},
   "outputs": [],
   "source": [
    "def acumulador_soja_amazonia_2002():\n",
    "    estados_amazonia = ['Tocantins', 'Roraima', 'Rondônia', 'Pará', 'Mato Grosso',\n",
    "                        'Maranhão', 'Amapá', 'Amazonas', 'Acre']\n",
    "    \n",
    "    # 1. Filtra apenas os estados da Amazônia\n",
    "    df_soja_filtrado = df_soja[df_soja['Estado'].isin(estados_amazonia)]\n",
    "    \n",
    "    # 2. Seleciona a coluna do ano 2002 e soma todos os valores\n",
    "    total_soja_2002 = df_soja_filtrado['2002'].sum()\n",
    "    \n",
    "    return total_soja_2002"
   ]
  },
  {
   "cell_type": "code",
   "execution_count": 11,
   "id": "be48f4c2",
   "metadata": {},
   "outputs": [],
   "source": [
    "def acumulador_soja_amazonia_2003():\n",
    "    estados_amazonia = ['Tocantins', 'Roraima', 'Rondônia', 'Pará', 'Mato Grosso',\n",
    "                        'Maranhão', 'Amapá', 'Amazonas', 'Acre']\n",
    "    \n",
    "    # 1. Filtra apenas os estados da Amazônia\n",
    "    df_soja_filtrado = df_soja[df_soja['Estado'].isin(estados_amazonia)]\n",
    "    \n",
    "    # 2. Seleciona a coluna do ano 2003 e soma todos os valores\n",
    "    total_soja_2003 = df_soja_filtrado['2003'].sum()\n",
    "    \n",
    "    return total_soja_2003"
   ]
  },
  {
   "cell_type": "code",
   "execution_count": 12,
   "id": "0d8065ec",
   "metadata": {},
   "outputs": [],
   "source": [
    "def acumulador_soja_amazonia_2004():\n",
    "    estados_amazonia = ['Tocantins', 'Roraima', 'Rondônia', 'Pará', 'Mato Grosso',\n",
    "                        'Maranhão', 'Amapá', 'Amazonas', 'Acre']\n",
    "    \n",
    "    # 1. Filtra apenas os estados da Amazônia\n",
    "    df_soja_filtrado = df_soja[df_soja['Estado'].isin(estados_amazonia)]\n",
    "    \n",
    "    # 2. Seleciona a coluna do ano 2004 e soma todos os valores\n",
    "    total_soja_2004 = df_soja_filtrado['2004'].sum()\n",
    "    \n",
    "    return total_soja_2004"
   ]
  },
  {
   "cell_type": "code",
   "execution_count": 13,
   "id": "9b925799",
   "metadata": {},
   "outputs": [],
   "source": [
    "def acumulador_soja_amazonia_2005():\n",
    "    estados_amazonia = ['Tocantins', 'Roraima', 'Rondônia', 'Pará', 'Mato Grosso',\n",
    "                        'Maranhão', 'Amapá', 'Amazonas', 'Acre']\n",
    "    \n",
    "    # 1. Filtra apenas os estados da Amazônia\n",
    "    df_soja_filtrado = df_soja[df_soja['Estado'].isin(estados_amazonia)]\n",
    "    \n",
    "    # 2. Seleciona a coluna do ano 2005 e soma todos os valores\n",
    "    total_soja_2005 = df_soja_filtrado['2005'].sum()\n",
    "    \n",
    "    return total_soja_2005"
   ]
  },
  {
   "cell_type": "code",
   "execution_count": 14,
   "id": "6fcade87",
   "metadata": {},
   "outputs": [],
   "source": [
    "def acumulador_soja_amazonia_2006():\n",
    "    estados_amazonia = ['Tocantins', 'Roraima', 'Rondônia', 'Pará', 'Mato Grosso',\n",
    "                        'Maranhão', 'Amapá', 'Amazonas', 'Acre']\n",
    "    \n",
    "    # 1. Filtra apenas os estados da Amazônia\n",
    "    df_soja_filtrado = df_soja[df_soja['Estado'].isin(estados_amazonia)]\n",
    "    \n",
    "    # 2. Seleciona a coluna do ano 2006 e soma todos os valores\n",
    "    total_soja_2006 = df_soja_filtrado['2006'].sum()\n",
    "    \n",
    "    return total_soja_2006"
   ]
  },
  {
   "cell_type": "code",
   "execution_count": 15,
   "id": "5ce5dc2f",
   "metadata": {},
   "outputs": [],
   "source": [
    "def acumulador_soja_amazonia_2007():\n",
    "    estados_amazonia = ['Tocantins', 'Roraima', 'Rondônia', 'Pará', 'Mato Grosso',\n",
    "                        'Maranhão', 'Amapá', 'Amazonas', 'Acre']\n",
    "    \n",
    "    # 1. Filtra apenas os estados da Amazônia\n",
    "    df_soja_filtrado = df_soja[df_soja['Estado'].isin(estados_amazonia)]\n",
    "    \n",
    "    # 2. Seleciona a coluna do ano 2007 e soma todos os valores\n",
    "    total_soja_2007 = df_soja_filtrado['2007'].sum()\n",
    "    \n",
    "    return total_soja_2007"
   ]
  },
  {
   "cell_type": "code",
   "execution_count": 16,
   "id": "b0de4964",
   "metadata": {},
   "outputs": [],
   "source": [
    "def acumulador_soja_amazonia_2008():\n",
    "    estados_amazonia = ['Tocantins', 'Roraima', 'Rondônia', 'Pará', 'Mato Grosso',\n",
    "                        'Maranhão', 'Amapá', 'Amazonas', 'Acre']\n",
    "    \n",
    "    # 1. Filtra apenas os estados da Amazônia\n",
    "    df_soja_filtrado = df_soja[df_soja['Estado'].isin(estados_amazonia)]\n",
    "    \n",
    "    # 2. Seleciona a coluna do ano 2008 e soma todos os valores\n",
    "    total_soja_2008 = df_soja_filtrado['2008'].sum()\n",
    "    \n",
    "    return total_soja_2008"
   ]
  },
  {
   "cell_type": "code",
   "execution_count": 17,
   "id": "6b33906d",
   "metadata": {},
   "outputs": [],
   "source": [
    "def acumulador_soja_amazonia_2009():\n",
    "    estados_amazonia = ['Tocantins', 'Roraima', 'Rondônia', 'Pará', 'Mato Grosso',\n",
    "                        'Maranhão', 'Amapá', 'Amazonas', 'Acre']\n",
    "    \n",
    "    # 1. Filtra apenas os estados da Amazônia\n",
    "    df_soja_filtrado = df_soja[df_soja['Estado'].isin(estados_amazonia)]\n",
    "    \n",
    "    # 2. Seleciona a coluna do ano 2009 e soma todos os valores\n",
    "    total_soja_2009 = df_soja_filtrado['2009'].sum()\n",
    "    \n",
    "    return total_soja_2009"
   ]
  },
  {
   "cell_type": "code",
   "execution_count": 18,
   "id": "9a68307d",
   "metadata": {},
   "outputs": [],
   "source": [
    "def acumulador_soja_amazonia_2010():\n",
    "    estados_amazonia = ['Tocantins', 'Roraima', 'Rondônia', 'Pará', 'Mato Grosso',\n",
    "                        'Maranhão', 'Amapá', 'Amazonas', 'Acre']\n",
    "    \n",
    "    # 1. Filtra apenas os estados da Amazônia\n",
    "    df_soja_filtrado = df_soja[df_soja['Estado'].isin(estados_amazonia)]\n",
    "    \n",
    "    # 2. Seleciona a coluna do ano 2010 e soma todos os valores\n",
    "    total_soja_2010 = df_soja_filtrado['2010'].sum()\n",
    "    \n",
    "    return total_soja_2010"
   ]
  },
  {
   "cell_type": "code",
   "execution_count": 19,
   "id": "18587125",
   "metadata": {},
   "outputs": [],
   "source": [
    "def acumulador_soja_amazonia_2011():\n",
    "    estados_amazonia = ['Tocantins', 'Roraima', 'Rondônia', 'Pará', 'Mato Grosso',\n",
    "                        'Maranhão', 'Amapá', 'Amazonas', 'Acre']\n",
    "    \n",
    "    # 1. Filtra apenas os estados da Amazônia\n",
    "    df_soja_filtrado = df_soja[df_soja['Estado'].isin(estados_amazonia)]\n",
    "    \n",
    "    # 2. Seleciona a coluna do ano 2011 e soma todos os valores\n",
    "    total_soja_2011 = df_soja_filtrado['2011'].sum()\n",
    "    \n",
    "    return total_soja_2011"
   ]
  },
  {
   "cell_type": "code",
   "execution_count": 20,
   "id": "4522fb98",
   "metadata": {},
   "outputs": [],
   "source": [
    "def acumulador_soja_amazonia_2012():\n",
    "    estados_amazonia = ['Tocantins', 'Roraima', 'Rondônia', 'Pará', 'Mato Grosso',\n",
    "                        'Maranhão', 'Amapá', 'Amazonas', 'Acre']\n",
    "    \n",
    "    # 1. Filtra apenas os estados da Amazônia\n",
    "    df_soja_filtrado = df_soja[df_soja['Estado'].isin(estados_amazonia)]\n",
    "    \n",
    "    # 2. Seleciona a coluna do ano 2012 e soma todos os valores\n",
    "    total_soja_2012 = df_soja_filtrado['2012'].sum()\n",
    "    \n",
    "    return total_soja_2012"
   ]
  },
  {
   "cell_type": "code",
   "execution_count": 21,
   "id": "f6f5c00c",
   "metadata": {},
   "outputs": [],
   "source": [
    "def acumulador_soja_amazonia_2013():\n",
    "    estados_amazonia = ['Tocantins', 'Roraima', 'Rondônia', 'Pará', 'Mato Grosso',\n",
    "                        'Maranhão', 'Amapá', 'Amazonas', 'Acre']\n",
    "    \n",
    "    # 1. Filtra apenas os estados da Amazônia\n",
    "    df_soja_filtrado = df_soja[df_soja['Estado'].isin(estados_amazonia)]\n",
    "    \n",
    "    # 2. Seleciona a coluna do ano 2013 e soma todos os valores\n",
    "    total_soja_2013 = df_soja_filtrado['2013'].sum()\n",
    "    \n",
    "    return total_soja_2013"
   ]
  },
  {
   "cell_type": "code",
   "execution_count": 22,
   "id": "d5ff1617",
   "metadata": {},
   "outputs": [],
   "source": [
    "def acumulador_soja_amazonia_2014():\n",
    "    estados_amazonia = ['Tocantins', 'Roraima', 'Rondônia', 'Pará', 'Mato Grosso',\n",
    "                        'Maranhão', 'Amapá', 'Amazonas', 'Acre']\n",
    "    \n",
    "    # 1. Filtra apenas os estados da Amazônia\n",
    "    df_soja_filtrado = df_soja[df_soja['Estado'].isin(estados_amazonia)]\n",
    "    \n",
    "    # 2. Seleciona a coluna do ano 2014 e soma todos os valores\n",
    "    total_soja_2014 = df_soja_filtrado['2014'].sum()\n",
    "    \n",
    "    return total_soja_2014"
   ]
  },
  {
   "cell_type": "code",
   "execution_count": 23,
   "id": "bee39a54",
   "metadata": {},
   "outputs": [],
   "source": [
    "def acumulador_soja_amazonia_2015():\n",
    "    estados_amazonia = ['Tocantins', 'Roraima', 'Rondônia', 'Pará', 'Mato Grosso',\n",
    "                        'Maranhão', 'Amapá', 'Amazonas', 'Acre']\n",
    "    \n",
    "    # 1. Filtra apenas os estados da Amazônia\n",
    "    df_soja_filtrado = df_soja[df_soja['Estado'].isin(estados_amazonia)]\n",
    "    \n",
    "    # 2. Seleciona a coluna do ano 2015 e soma todos os valores\n",
    "    total_soja_2015 = df_soja_filtrado['2015'].sum()\n",
    "    \n",
    "    return total_soja_2015"
   ]
  },
  {
   "cell_type": "code",
   "execution_count": 24,
   "id": "b05fc127",
   "metadata": {},
   "outputs": [],
   "source": [
    "def acumulador_soja_amazonia_2016():\n",
    "    estados_amazonia = ['Tocantins', 'Roraima', 'Rondônia', 'Pará', 'Mato Grosso',\n",
    "                        'Maranhão', 'Amapá', 'Amazonas', 'Acre']\n",
    "    \n",
    "    # 1. Filtra apenas os estados da Amazônia\n",
    "    df_soja_filtrado = df_soja[df_soja['Estado'].isin(estados_amazonia)]\n",
    "    \n",
    "    # 2. Seleciona a coluna do ano 2016 e soma todos os valores\n",
    "    total_soja_2016 = df_soja_filtrado['2016'].sum()\n",
    "    \n",
    "    return total_soja_2016"
   ]
  },
  {
   "cell_type": "code",
   "execution_count": 25,
   "id": "e7d34384",
   "metadata": {},
   "outputs": [],
   "source": [
    "def acumulador_soja_amazonia_2017():\n",
    "    estados_amazonia = ['Tocantins', 'Roraima', 'Rondônia', 'Pará', 'Mato Grosso',\n",
    "                        'Maranhão', 'Amapá', 'Amazonas', 'Acre']\n",
    "    \n",
    "    # 1. Filtra apenas os estados da Amazônia\n",
    "    df_soja_filtrado = df_soja[df_soja['Estado'].isin(estados_amazonia)]\n",
    "    \n",
    "    # 2. Seleciona a coluna do ano 2017 e soma todos os valores\n",
    "    total_soja_2017 = df_soja_filtrado['2017'].sum()\n",
    "    \n",
    "    return total_soja_2017"
   ]
  },
  {
   "cell_type": "code",
   "execution_count": 26,
   "id": "9d2fd162",
   "metadata": {},
   "outputs": [],
   "source": [
    "def acumulador_soja_amazonia_2018():\n",
    "    estados_amazonia = ['Tocantins', 'Roraima', 'Rondônia', 'Pará', 'Mato Grosso',\n",
    "                        'Maranhão', 'Amapá', 'Amazonas', 'Acre']\n",
    "    \n",
    "    # 1. Filtra apenas os estados da Amazônia\n",
    "    df_soja_filtrado = df_soja[df_soja['Estado'].isin(estados_amazonia)]\n",
    "    \n",
    "    # 2. Seleciona a coluna do ano 2018 e soma todos os valores\n",
    "    total_soja_2018 = df_soja_filtrado['2018'].sum()\n",
    "    \n",
    "    return total_soja_2018"
   ]
  },
  {
   "cell_type": "code",
   "execution_count": 27,
   "id": "abbae90b",
   "metadata": {},
   "outputs": [],
   "source": [
    "def acumulador_soja_amazonia_2019():\n",
    "    estados_amazonia = ['Tocantins', 'Roraima', 'Rondônia', 'Pará', 'Mato Grosso',\n",
    "                        'Maranhão', 'Amapá', 'Amazonas', 'Acre']\n",
    "    \n",
    "    # 1. Filtra apenas os estados da Amazônia\n",
    "    df_soja_filtrado = df_soja[df_soja['Estado'].isin(estados_amazonia)]\n",
    "    \n",
    "    # 2. Seleciona a coluna do ano 2019 e soma todos os valores\n",
    "    total_soja_2019 = df_soja_filtrado['2019'].sum()\n",
    "    \n",
    "    return total_soja_2019"
   ]
  },
  {
   "cell_type": "code",
   "execution_count": 28,
   "id": "af23af41",
   "metadata": {},
   "outputs": [],
   "source": [
    "def acumulador_soja_amazonia_2020():\n",
    "    estados_amazonia = ['Tocantins', 'Roraima', 'Rondônia', 'Pará', 'Mato Grosso',\n",
    "                        'Maranhão', 'Amapá', 'Amazonas', 'Acre']\n",
    "    \n",
    "    # 1. Filtra apenas os estados da Amazônia\n",
    "    df_soja_filtrado = df_soja[df_soja['Estado'].isin(estados_amazonia)]\n",
    "    \n",
    "    # 2. Seleciona a coluna do ano 2020 e soma todos os valores\n",
    "    total_soja_2020 = df_soja_filtrado['2020'].sum()\n",
    "    \n",
    "    return total_soja_2020"
   ]
  },
  {
   "cell_type": "markdown",
   "id": "b5cd8a41",
   "metadata": {},
   "source": [
    "### Filtrando classe Pará pelo acumulado total de Soja anual"
   ]
  },
  {
   "cell_type": "code",
   "execution_count": 29,
   "id": "da953cc9",
   "metadata": {},
   "outputs": [],
   "source": [
    "def acumulador_soja_para_1999():\n",
    "    \"\"\"\n",
    "    Retorna a produção de soja do Pará para o ano de 1999.\n",
    "    \n",
    "    Retorno:\n",
    "        float: Soma da produção de soja do Pará em 1999.\n",
    "    \"\"\"\n",
    "    # Filtra apenas o estado do Pará\n",
    "    df_para = df_soja[df_soja['Estado'] == 'Pará']\n",
    "    \n",
    "    # Verifica se a coluna de 1999 existe e retorna o valor\n",
    "    return df_para['1999'].sum()"
   ]
  },
  {
   "cell_type": "code",
   "execution_count": 30,
   "id": "a1573da0",
   "metadata": {},
   "outputs": [],
   "source": [
    "def acumulador_soja_para_2000():\n",
    "\n",
    "    df_para = df_soja[df_soja['Estado'] == 'Pará']\n",
    "    \n",
    "    \n",
    "    return df_para['2000'].sum()"
   ]
  },
  {
   "cell_type": "code",
   "execution_count": 31,
   "id": "373f8984",
   "metadata": {},
   "outputs": [],
   "source": [
    "def acumulador_soja_para_2001():\n",
    "\n",
    "    df_para = df_soja[df_soja['Estado'] == 'Pará']\n",
    "    \n",
    "    \n",
    "    return df_para['2001'].sum()"
   ]
  },
  {
   "cell_type": "code",
   "execution_count": 32,
   "id": "f8222e95",
   "metadata": {},
   "outputs": [],
   "source": [
    "def acumulador_soja_para_2002():\n",
    "\n",
    "    df_para = df_soja[df_soja['Estado'] == 'Pará']\n",
    "    \n",
    "    \n",
    "    return df_para['2002'].sum()"
   ]
  },
  {
   "cell_type": "code",
   "execution_count": 33,
   "id": "158d242c",
   "metadata": {},
   "outputs": [],
   "source": [
    "def acumulador_soja_para_2003():\n",
    "\n",
    "    df_para = df_soja[df_soja['Estado'] == 'Pará']\n",
    "    \n",
    "    \n",
    "    return df_para['2003'].sum()"
   ]
  },
  {
   "cell_type": "code",
   "execution_count": 34,
   "id": "7e13182c",
   "metadata": {},
   "outputs": [],
   "source": [
    "def acumulador_soja_para_2004():\n",
    "\n",
    "    df_para = df_soja[df_soja['Estado'] == 'Pará']\n",
    "    \n",
    "    \n",
    "    return df_para['2004'].sum()"
   ]
  },
  {
   "cell_type": "code",
   "execution_count": 35,
   "id": "8960ab4c",
   "metadata": {},
   "outputs": [],
   "source": [
    "def acumulador_soja_para_2005():\n",
    "\n",
    "    df_para = df_soja[df_soja['Estado'] == 'Pará']\n",
    "    \n",
    "    \n",
    "    return df_para['2005'].sum()"
   ]
  },
  {
   "cell_type": "code",
   "execution_count": 36,
   "id": "82653eeb",
   "metadata": {},
   "outputs": [],
   "source": [
    "def acumulador_soja_para_2006():\n",
    "\n",
    "    df_para = df_soja[df_soja['Estado'] == 'Pará']\n",
    "    \n",
    "    \n",
    "    return df_para['2006'].sum()"
   ]
  },
  {
   "cell_type": "code",
   "execution_count": 37,
   "id": "0417bf8c",
   "metadata": {},
   "outputs": [],
   "source": [
    "def acumulador_soja_para_2007():\n",
    "\n",
    "    df_para = df_soja[df_soja['Estado'] == 'Pará']\n",
    "    \n",
    "    \n",
    "    return df_para['2007'].sum()"
   ]
  },
  {
   "cell_type": "code",
   "execution_count": 38,
   "id": "ea4b9ec5",
   "metadata": {},
   "outputs": [],
   "source": [
    "def acumulador_soja_para_2008():\n",
    "\n",
    "    df_para = df_soja[df_soja['Estado'] == 'Pará']\n",
    "    \n",
    "    \n",
    "    return df_para['2008'].sum()"
   ]
  },
  {
   "cell_type": "code",
   "execution_count": 39,
   "id": "a8c704e9",
   "metadata": {},
   "outputs": [],
   "source": [
    "def acumulador_soja_para_2009():\n",
    "\n",
    "    df_para = df_soja[df_soja['Estado'] == 'Pará']\n",
    "    \n",
    "    \n",
    "    return df_para['2009'].sum()"
   ]
  },
  {
   "cell_type": "code",
   "execution_count": 40,
   "id": "752adcc3",
   "metadata": {},
   "outputs": [],
   "source": [
    "def acumulador_soja_para_2010():\n",
    "\n",
    "    df_para = df_soja[df_soja['Estado'] == 'Pará']\n",
    "    \n",
    "    \n",
    "    return df_para['2010'].sum()"
   ]
  },
  {
   "cell_type": "code",
   "execution_count": 41,
   "id": "4fd959e0",
   "metadata": {},
   "outputs": [],
   "source": [
    "def acumulador_soja_para_2011():\n",
    "\n",
    "    df_para = df_soja[df_soja['Estado'] == 'Pará']\n",
    "    \n",
    "    \n",
    "    return df_para['2011'].sum()"
   ]
  },
  {
   "cell_type": "code",
   "execution_count": 42,
   "id": "e0a6f7fa",
   "metadata": {},
   "outputs": [],
   "source": [
    "def acumulador_soja_para_2012():\n",
    "\n",
    "    df_para = df_soja[df_soja['Estado'] == 'Pará']\n",
    "    \n",
    "    \n",
    "    return df_para['2012'].sum()"
   ]
  },
  {
   "cell_type": "code",
   "execution_count": 43,
   "id": "b33e9bbd",
   "metadata": {},
   "outputs": [],
   "source": [
    "def acumulador_soja_para_2013():\n",
    "\n",
    "    df_para = df_soja[df_soja['Estado'] == 'Pará']\n",
    "    \n",
    "    \n",
    "    return df_para['2013'].sum()"
   ]
  },
  {
   "cell_type": "code",
   "execution_count": 44,
   "id": "198a2d29",
   "metadata": {},
   "outputs": [],
   "source": [
    "def acumulador_soja_para_2014():\n",
    "\n",
    "    df_para = df_soja[df_soja['Estado'] == 'Pará']\n",
    "    \n",
    "    \n",
    "    return df_para['2014'].sum()"
   ]
  },
  {
   "cell_type": "code",
   "execution_count": 45,
   "id": "a7ecb374",
   "metadata": {},
   "outputs": [],
   "source": [
    "def acumulador_soja_para_2015():\n",
    "\n",
    "    df_para = df_soja[df_soja['Estado'] == 'Pará']\n",
    "    \n",
    "    \n",
    "    return df_para['2015'].sum()"
   ]
  },
  {
   "cell_type": "code",
   "execution_count": 46,
   "id": "f0d6d54e",
   "metadata": {},
   "outputs": [],
   "source": [
    "def acumulador_soja_para_2016():\n",
    "\n",
    "    df_para = df_soja[df_soja['Estado'] == 'Pará']\n",
    "    \n",
    "    \n",
    "    return df_para['2016'].sum()"
   ]
  },
  {
   "cell_type": "code",
   "execution_count": 47,
   "id": "6b177b02",
   "metadata": {},
   "outputs": [],
   "source": [
    "def acumulador_soja_para_2017():\n",
    "\n",
    "    df_para = df_soja[df_soja['Estado'] == 'Pará']\n",
    "    \n",
    "    \n",
    "    return df_para['2017'].sum()"
   ]
  },
  {
   "cell_type": "code",
   "execution_count": 48,
   "id": "ef06c48c",
   "metadata": {},
   "outputs": [],
   "source": [
    "def acumulador_soja_para_2018():\n",
    "\n",
    "    df_para = df_soja[df_soja['Estado'] == 'Pará']\n",
    "    \n",
    "    \n",
    "    return df_para['2018'].sum()"
   ]
  },
  {
   "cell_type": "code",
   "execution_count": 49,
   "id": "65250229",
   "metadata": {},
   "outputs": [],
   "source": [
    "def acumulador_soja_para_2019():\n",
    "\n",
    "    df_para = df_soja[df_soja['Estado'] == 'Pará']\n",
    "    \n",
    "    \n",
    "    return df_para['2019'].sum()"
   ]
  },
  {
   "cell_type": "code",
   "execution_count": 50,
   "id": "8157fa2a",
   "metadata": {},
   "outputs": [],
   "source": [
    "def acumulador_soja_para_2020():\n",
    "\n",
    "    df_para = df_soja[df_soja['Estado'] == 'Pará']\n",
    "    \n",
    "    \n",
    "    return df_para['2020'].sum()"
   ]
  },
  {
   "cell_type": "markdown",
   "id": "a121fdc9",
   "metadata": {},
   "source": [
    "## Necessário criar listas com os valores anuais para cada função:"
   ]
  },
  {
   "cell_type": "code",
   "execution_count": 51,
   "id": "76c1a3a7",
   "metadata": {},
   "outputs": [],
   "source": [
    "import matplotlib.pyplot as plt\n",
    "\n",
    "# Lista de anos (colunas do DataFrame)\n",
    "anos = [str(ano) for ano in range(1999, 2021)]  # 1999 a 2020\n",
    "\n",
    "# Dados do Pará\n",
    "producao_para = []\n",
    "for ano in anos:\n",
    "    try:\n",
    "        # Chama cada função acumulador_soja_para_XXXX()\n",
    "        valor = eval(f\"acumulador_soja_para_{ano}()\")  # Nota: eval pode ser inseguro - veja alternativa abaixo\n",
    "        producao_para.append(valor)\n",
    "    except:\n",
    "        producao_para.append(0)  # Caso a função/ano não exista\n",
    "\n",
    "# Dados da Amazônia\n",
    "producao_amazonia = []\n",
    "for ano in anos:\n",
    "    try:\n",
    "        # Chama cada função acumulador_soja_amazonia_{ano}()\n",
    "        valor = eval(f\"acumulador_soja_amazonia_{ano}()\")\n",
    "        producao_amazonia.append(valor)\n",
    "    except:\n",
    "        producao_amazonia.append(0)"
   ]
  },
  {
   "cell_type": "code",
   "execution_count": 52,
   "id": "0677388e",
   "metadata": {},
   "outputs": [
    {
     "name": "stdout",
     "output_type": "stream",
     "text": [
      "Anos gerados: ['1999', '2000', '2001', '2002', '2003', '2004', '2005', '2006', '2007', '2008', '2009', '2010', '2011', '2012', '2013', '2014', '2015', '2016', '2017', '2018', '2019', '2020']\n",
      "Total de anos: 22\n",
      "Primeiro ano: 1999\n",
      "Último ano: 2020\n"
     ]
    }
   ],
   "source": [
    "# Geração da lista de anos (como strings)\n",
    "anos = [str(ano) for ano in range(1999, 2021)]  # 1999 a 2020 (inclusive)\n",
    "\n",
    "# Verificação (para provar que funciona)\n",
    "print(\"Anos gerados:\", anos)\n",
    "print(\"Total de anos:\", len(anos))\n",
    "print(\"Primeiro ano:\", anos[0])\n",
    "print(\"Último ano:\", anos[-1])"
   ]
  },
  {
   "cell_type": "markdown",
   "id": "94a50a6c",
   "metadata": {},
   "source": [
    "##  Criação do gráfico "
   ]
  },
  {
   "cell_type": "code",
   "execution_count": 53,
   "id": "48ecbb58",
   "metadata": {},
   "outputs": [
    {
     "data": {
      "image/png": "[encoded data removed]",
      "text/plain": [
       "<Figure size 1500x600 with 1 Axes>"
      ]
     },
     "metadata": {},
     "output_type": "display_data"
    }
   ],
   "source": [
    "# Configuração do gráfico\n",
    "plt.figure(figsize=(15, 6))\n",
    "bar_width = 0.35\n",
    "indices = range(len(anos))\n",
    "\n",
    "# Barras para o Pará\n",
    "plt.bar(\n",
    "    [i - bar_width/2 for i in indices],\n",
    "    producao_para,\n",
    "    width=bar_width,\n",
    "    label='Pará',\n",
    "    color='#1f77b4'\n",
    ")\n",
    "\n",
    "# Barras para a Amazônia\n",
    "plt.bar(\n",
    "    [i + bar_width/2 for i in indices],\n",
    "    producao_amazonia,\n",
    "    width=bar_width,\n",
    "    label='Amazônia',\n",
    "    color='#ff7f0e'\n",
    ")\n",
    "\n",
    "# Formatação\n",
    "plt.title('Produção de Soja: Pará vs. Amazônia (1999-2020)')\n",
    "plt.xlabel('Ano')\n",
    "plt.ylabel('Rendimento (R$)')\n",
    "plt.xticks(indices, anos, rotation=45)\n",
    "plt.legend()\n",
    "plt.grid(axis='y', linestyle='--', alpha=0.7)\n",
    "\n",
    "# Exibir\n",
    "plt.tight_layout()\n",
    "plt.show()"
   ]
  }
 ],
 "metadata": {
  "kernelspec": {
   "display_name": "Python 3",
   "language": "python",
   "name": "python3"
  },
  "language_info": {
   "codemirror_mode": {
    "name": "ipython",
    "version": 3
   },
   "file_extension": ".py",
   "mimetype": "text/x-python",
   "name": "python",
   "nbconvert_exporter": "python",
   "pygments_lexer": "ipython3",
   "version": "3.10.2"
  }
 },
 "nbformat": 4,
 "nbformat_minor": 5
}
